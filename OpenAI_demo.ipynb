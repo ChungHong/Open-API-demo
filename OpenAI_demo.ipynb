{
  "nbformat": 4,
  "nbformat_minor": 0,
  "metadata": {
    "colab": {
      "provenance": [],
      "gpuType": "T4"
    },
    "kernelspec": {
      "name": "python3",
      "display_name": "Python 3"
    },
    "language_info": {
      "name": "python"
    },
    "accelerator": "GPU"
  },
  "cells": [
    {
      "cell_type": "code",
      "execution_count": null,
      "metadata": {
        "id": "1FFYhOhXNAj7"
      },
      "outputs": [],
      "source": [
        "# !pip install -U openai-whisper\n",
        "!pip install pytube\n",
        "!pip install openai\n",
        "!pip install python-dotenv\n",
        "!pip install gradio"
      ]
    },
    {
      "cell_type": "code",
      "source": [
        "import openai\n",
        "from dotenv import dotenv_values\n",
        "config = dotenv_values('.env')\n",
        "openai.api_key = config['API_KEY']\n",
        "\n",
        "# for m in ['text-ada-001', 'text-babbage-001', 'text-curie-001', '']"
      ],
      "metadata": {
        "id": "_am5HhG-w1ru"
      },
      "execution_count": null,
      "outputs": []
    },
    {
      "cell_type": "code",
      "source": [
        "from pytube import YouTube\n",
        "\n",
        "url = 'https://www.youtube.com/watch?v=yzinJIIQNAY' #'https://www.youtube.com/watch?v=Cq0K2ipTaPM'\n",
        "\n",
        "yt = YouTube(url)\n",
        "\n",
        "\n",
        "# 抓取標題試試看\n",
        "print(yt.title)\n",
        "print(yt.thumbnail_url)\n",
        "\n",
        "# try:\n",
        "#   streams = yt.streams\n",
        "#   audio = streams.get_audio_only()\n",
        "#   obj = audio.download(filename='test.mp4')\n",
        "# except Exception:\n",
        "#   print(\"Sorry. The url of the video can't be loaded.\")\n"
      ],
      "metadata": {
        "colab": {
          "base_uri": "https://localhost:8080/"
        },
        "id": "zeZJ3-B9v_25",
        "outputId": "923e5eec-86ac-45c2-eec3-2efd7844a33f"
      },
      "execution_count": null,
      "outputs": [
        {
          "output_type": "stream",
          "name": "stdout",
          "text": [
            "【藍甲蟲】終極預告，8月17日(週四) 大銀幕鉅獻\n",
            "https://i.ytimg.com/vi/yzinJIIQNAY/hq720.jpg\n"
          ]
        }
      ]
    },
    {
      "cell_type": "code",
      "source": [
        "streams = yt.streams\n",
        "audio = streams.get_audio_only()\n",
        "obj = audio.download(filename='test.mp4')\n",
        "\n",
        "audio_file= open(obj, \"rb\")\n",
        "transcript = openai.Audio.transcribe(\"whisper-1\", audio_file)\n",
        "transcript"
      ],
      "metadata": {
        "colab": {
          "base_uri": "https://localhost:8080/"
        },
        "id": "WAI4LvqCbjWh",
        "outputId": "96e1f074-900b-4f2c-cc76-8fdee8f04696"
      },
      "execution_count": null,
      "outputs": [
        {
          "output_type": "execute_result",
          "data": {
            "text/plain": [
              "<OpenAIObject at 0x7d8b0d667ec0> JSON: {\n",
              "  \"text\": \"And of all the men to cheat, you picked John Kramer? John! The cancer is still spreading. I'm afraid there's nothing else we can do. There is one person who might be able to help. Our program is a two-prong treatment outside Mexico City. The results have been stunning. She saved my life. You're in very good hands with us. After that, what happens then? Your whole life happens then, John Kramer. According to these scans, the tumor was never removed. How much time do I have? Months, at best. I still have a lot of work that needs to be done. John! What the... Hello, everyone. It's time to play a game. You all pretended to cure me. But what I have planned for each of you is very real. The only thing I have not provided is your anesthetic. But trust me, you will want to remain alert. And of all the men to cheat, you picked John Kramer? Please, don't hesitate. Place a big enough piece of your cerebral tissue into the glass enzyme tank. This will save your life. This is not retribution. It's a reawakening. Live or die, the choice is yours. AVAILABLE NOW\"\n",
              "}"
            ]
          },
          "metadata": {},
          "execution_count": 8
        }
      ]
    },
    {
      "cell_type": "code",
      "source": [
        "transcript.to_dict()"
      ],
      "metadata": {
        "colab": {
          "base_uri": "https://localhost:8080/"
        },
        "id": "jd94_JtLbzGe",
        "outputId": "3ba2ded1-abbc-4640-d55a-2e61a6b06c48"
      },
      "execution_count": null,
      "outputs": [
        {
          "output_type": "execute_result",
          "data": {
            "text/plain": [
              "{'text': \"And of all the men to cheat, you picked John Kramer? John! The cancer is still spreading. I'm afraid there's nothing else we can do. There is one person who might be able to help. Our program is a two-prong treatment outside Mexico City. The results have been stunning. She saved my life. You're in very good hands with us. After that, what happens then? Your whole life happens then, John Kramer. According to these scans, the tumor was never removed. How much time do I have? Months, at best. I still have a lot of work that needs to be done. John! What the... Hello, everyone. It's time to play a game. You all pretended to cure me. But what I have planned for each of you is very real. The only thing I have not provided is your anesthetic. But trust me, you will want to remain alert. And of all the men to cheat, you picked John Kramer? Please, don't hesitate. Place a big enough piece of your cerebral tissue into the glass enzyme tank. This will save your life. This is not retribution. It's a reawakening. Live or die, the choice is yours. AVAILABLE NOW\"}"
            ]
          },
          "metadata": {},
          "execution_count": 9
        }
      ]
    },
    {
      "cell_type": "code",
      "source": [
        "from pytube import YouTube\n",
        "import openai\n",
        "from dotenv import dotenv_values\n",
        "config = dotenv_values('.env')\n",
        "openai.api_key = config['API_KEY']"
      ],
      "metadata": {
        "id": "Xpiz5CWF5Cei"
      },
      "execution_count": null,
      "outputs": []
    },
    {
      "cell_type": "code",
      "source": [
        "response = openai.ChatCompletion.create(\n",
        "  model=\"gpt-3.5-turbo\",\n",
        "  max_tokens=128,\n",
        "  temperature=0.5,\n",
        "  messages=[\n",
        "        {\"role\": \"user\", \"content\": \"我叫做 oxxo\"},\n",
        "        {\"role\": \"assistant\", \"content\": \"原來你是 oxxo 呀\"},\n",
        "        {\"role\": \"user\", \"content\": \"請問我叫什麼名字？\"}\n",
        "    ]\n",
        ")\n",
        "print(response.choices[0].message.content)"
      ],
      "metadata": {
        "colab": {
          "base_uri": "https://localhost:8080/"
        },
        "id": "jEknlt9-GjcV",
        "outputId": "69385bd3-fff1-42db-cc93-9750e5bc5307"
      },
      "execution_count": null,
      "outputs": [
        {
          "output_type": "stream",
          "name": "stdout",
          "text": [
            "抱歉，我無法得知你的名字，因為我只能看到你的用戶名稱 oxxo。如果你想告訴我你的名字，請隨時告訴我。\n"
          ]
        }
      ]
    },
    {
      "cell_type": "code",
      "source": [
        "def generate_category(url):\n",
        "\n",
        "  url = url\n",
        "  yt = YouTube(url)\n",
        "\n",
        "  try:\n",
        "    streams = yt.streams\n",
        "    audio = streams.get_audio_only()\n",
        "    obj = audio.download(filename='test.mp4')\n",
        "\n",
        "    audio_file= open(obj, \"rb\")\n",
        "    transcript = openai.Audio.transcribe(\"whisper-1\", audio_file)\n",
        "\n",
        "    prompt = f\"\"\"\n",
        "      根據以下文字判斷產生電影類別,並以字串為輸出格式\n",
        "\n",
        "      ###\n",
        "\n",
        "      Get them to school on time, okay? We're leaving! Are you gonna answer that? What?\n",
        "      It's not mine. Hello? Matt Turner, listen very carefully. There is a bomb under your seat. What is it?\n",
        "      It's okay, sweetie. If you get out of your seat, the bomb will detonate.\n",
        "      You do exactly what I say when I say... What do you want? Your investors' money, 208 million euros.\n",
        "      This is about money? Answer that. Matt, there's a guy that called. He said we're gonna die because of you.\n",
        "      I don't wanna die, Matt! You're not going to die. Stop the car! There's a bomb on his car!\n",
        "      Whatever it is you want, let my children go. My daughter needs help! Time to play games. Mr. Turner,\n",
        "      I'm with you upon. I'm innocent, believe me. I need trust. It's my job to stop people from dying.\n",
        "      He set me up and you all bought it. Just come home. Dad, what are you doing? I can find him.\n",
        "      I will get you out. THE LAST OF US There's one thing you didn't think of.\n",
        "      What a man will do when he's got nothing to lose. I'm watching you.\n",
        "\n",
        "      ###\n",
        "\n",
        "      電影類別: 動作/冒險\n",
        "\n",
        "      ###\n",
        "      {transcript.to_dict()}\n",
        "      ###\n",
        "\n",
        "    \"\"\"\n",
        "    res = openai.Completion.create(\n",
        "      model = 'text-davinci-003',\n",
        "      prompt = prompt,\n",
        "      max_tokens = 100\n",
        "      )\n",
        "    reply = res['choices'][0]['text']\n",
        "\n",
        "  except Exception:\n",
        "    reply = (\"Sorry. The url of the video can't be loaded.\")\n",
        "\n",
        "  return reply\n",
        "\n"
      ],
      "metadata": {
        "id": "UFjkXRYOFjR-"
      },
      "execution_count": null,
      "outputs": []
    },
    {
      "cell_type": "code",
      "source": [
        "generate_category(\"https://www.youtube.com/watch?v=Cq0K2ipTaPM\")"
      ],
      "metadata": {
        "colab": {
          "base_uri": "https://localhost:8080/",
          "height": 315
        },
        "id": "r0dMHL4rUjnQ",
        "outputId": "497a274c-29f4-4253-fe53-a4d687f02840"
      },
      "execution_count": null,
      "outputs": [
        {
          "output_type": "error",
          "ename": "VideoUnavailable",
          "evalue": "ignored",
          "traceback": [
            "\u001b[0;31m---------------------------------------------------------------------------\u001b[0m",
            "\u001b[0;31mVideoUnavailable\u001b[0m                          Traceback (most recent call last)",
            "\u001b[0;32m<ipython-input-17-87e180a5142c>\u001b[0m in \u001b[0;36m<cell line: 1>\u001b[0;34m()\u001b[0m\n\u001b[0;32m----> 1\u001b[0;31m \u001b[0mgenerate_category\u001b[0m\u001b[0;34m(\u001b[0m\u001b[0;34m\"https://www.youtube.com/watch?v=nOixdv0PX-Q\"\u001b[0m\u001b[0;34m)\u001b[0m\u001b[0;34m\u001b[0m\u001b[0;34m\u001b[0m\u001b[0m\n\u001b[0m",
            "\u001b[0;32m<ipython-input-15-d3ed29d4d998>\u001b[0m in \u001b[0;36mgenerate_category\u001b[0;34m(url)\u001b[0m\n\u001b[1;32m      3\u001b[0m   \u001b[0murl\u001b[0m \u001b[0;34m=\u001b[0m \u001b[0murl\u001b[0m\u001b[0;34m\u001b[0m\u001b[0;34m\u001b[0m\u001b[0m\n\u001b[1;32m      4\u001b[0m   \u001b[0myt\u001b[0m \u001b[0;34m=\u001b[0m \u001b[0mYouTube\u001b[0m\u001b[0;34m(\u001b[0m\u001b[0murl\u001b[0m\u001b[0;34m)\u001b[0m\u001b[0;34m\u001b[0m\u001b[0;34m\u001b[0m\u001b[0m\n\u001b[0;32m----> 5\u001b[0;31m   \u001b[0mstreams\u001b[0m \u001b[0;34m=\u001b[0m \u001b[0myt\u001b[0m\u001b[0;34m.\u001b[0m\u001b[0mstreams\u001b[0m\u001b[0;34m\u001b[0m\u001b[0;34m\u001b[0m\u001b[0m\n\u001b[0m\u001b[1;32m      6\u001b[0m   \u001b[0maudio\u001b[0m \u001b[0;34m=\u001b[0m \u001b[0mstreams\u001b[0m\u001b[0;34m.\u001b[0m\u001b[0mget_audio_only\u001b[0m\u001b[0;34m(\u001b[0m\u001b[0;34m)\u001b[0m\u001b[0;34m\u001b[0m\u001b[0;34m\u001b[0m\u001b[0m\n\u001b[1;32m      7\u001b[0m   \u001b[0mobj\u001b[0m \u001b[0;34m=\u001b[0m \u001b[0maudio\u001b[0m\u001b[0;34m.\u001b[0m\u001b[0mdownload\u001b[0m\u001b[0;34m(\u001b[0m\u001b[0mfilename\u001b[0m\u001b[0;34m=\u001b[0m\u001b[0;34m'test.mp4'\u001b[0m\u001b[0;34m)\u001b[0m\u001b[0;34m\u001b[0m\u001b[0;34m\u001b[0m\u001b[0m\n",
            "\u001b[0;32m/usr/local/lib/python3.10/dist-packages/pytube/__main__.py\u001b[0m in \u001b[0;36mstreams\u001b[0;34m(self)\u001b[0m\n\u001b[1;32m    293\u001b[0m         \u001b[0;34m:\u001b[0m\u001b[0mrtype\u001b[0m\u001b[0;34m:\u001b[0m \u001b[0;34m:\u001b[0m\u001b[0;32mclass\u001b[0m\u001b[0;34m:\u001b[0m\u001b[0;31m`\u001b[0m\u001b[0mStreamQuery\u001b[0m \u001b[0;34m<\u001b[0m\u001b[0mStreamQuery\u001b[0m\u001b[0;34m>\u001b[0m\u001b[0;31m`\u001b[0m\u001b[0;34m.\u001b[0m\u001b[0;34m\u001b[0m\u001b[0;34m\u001b[0m\u001b[0m\n\u001b[1;32m    294\u001b[0m         \"\"\"\n\u001b[0;32m--> 295\u001b[0;31m         \u001b[0mself\u001b[0m\u001b[0;34m.\u001b[0m\u001b[0mcheck_availability\u001b[0m\u001b[0;34m(\u001b[0m\u001b[0;34m)\u001b[0m\u001b[0;34m\u001b[0m\u001b[0;34m\u001b[0m\u001b[0m\n\u001b[0m\u001b[1;32m    296\u001b[0m         \u001b[0;32mreturn\u001b[0m \u001b[0mStreamQuery\u001b[0m\u001b[0;34m(\u001b[0m\u001b[0mself\u001b[0m\u001b[0;34m.\u001b[0m\u001b[0mfmt_streams\u001b[0m\u001b[0;34m)\u001b[0m\u001b[0;34m\u001b[0m\u001b[0;34m\u001b[0m\u001b[0m\n\u001b[1;32m    297\u001b[0m \u001b[0;34m\u001b[0m\u001b[0m\n",
            "\u001b[0;32m/usr/local/lib/python3.10/dist-packages/pytube/__main__.py\u001b[0m in \u001b[0;36mcheck_availability\u001b[0;34m(self)\u001b[0m\n\u001b[1;32m    220\u001b[0m                     \u001b[0;32mraise\u001b[0m \u001b[0mexceptions\u001b[0m\u001b[0;34m.\u001b[0m\u001b[0mRecordingUnavailable\u001b[0m\u001b[0;34m(\u001b[0m\u001b[0mvideo_id\u001b[0m\u001b[0;34m=\u001b[0m\u001b[0mself\u001b[0m\u001b[0;34m.\u001b[0m\u001b[0mvideo_id\u001b[0m\u001b[0;34m)\u001b[0m\u001b[0;34m\u001b[0m\u001b[0;34m\u001b[0m\u001b[0m\n\u001b[1;32m    221\u001b[0m                 \u001b[0;32melse\u001b[0m\u001b[0;34m:\u001b[0m\u001b[0;34m\u001b[0m\u001b[0;34m\u001b[0m\u001b[0m\n\u001b[0;32m--> 222\u001b[0;31m                     \u001b[0;32mraise\u001b[0m \u001b[0mexceptions\u001b[0m\u001b[0;34m.\u001b[0m\u001b[0mVideoUnavailable\u001b[0m\u001b[0;34m(\u001b[0m\u001b[0mvideo_id\u001b[0m\u001b[0;34m=\u001b[0m\u001b[0mself\u001b[0m\u001b[0;34m.\u001b[0m\u001b[0mvideo_id\u001b[0m\u001b[0;34m)\u001b[0m\u001b[0;34m\u001b[0m\u001b[0;34m\u001b[0m\u001b[0m\n\u001b[0m\u001b[1;32m    223\u001b[0m             \u001b[0;32melif\u001b[0m \u001b[0mstatus\u001b[0m \u001b[0;34m==\u001b[0m \u001b[0;34m'LOGIN_REQUIRED'\u001b[0m\u001b[0;34m:\u001b[0m\u001b[0;34m\u001b[0m\u001b[0;34m\u001b[0m\u001b[0m\n\u001b[1;32m    224\u001b[0m                 if reason == (\n",
            "\u001b[0;31mVideoUnavailable\u001b[0m: nOixdv0PX-Q is unavailable"
          ]
        }
      ]
    },
    {
      "cell_type": "code",
      "source": [
        "import gradio as gr\n",
        "\n",
        "demo = gr.Interface(\n",
        "    fn = generate_category,\n",
        "    inputs = \"text\",\n",
        "    outputs = \"text\",\n",
        "    title = '電影類別判斷',\n",
        "    description = '輸入 YouTube 上一段電影預告網址，產生該電影的類別',\n",
        "    allow_flagging = \"never\"\n",
        ")\n",
        "\n",
        "demo.launch(share = True)"
      ],
      "metadata": {
        "colab": {
          "base_uri": "https://localhost:8080/",
          "height": 611
        },
        "id": "cTv0-yCa-eHH",
        "outputId": "a7e73cfe-56a8-474c-a2c5-d12a745a9dc5"
      },
      "execution_count": null,
      "outputs": [
        {
          "output_type": "stream",
          "name": "stdout",
          "text": [
            "Colab notebook detected. To show errors in colab notebook, set debug=True in launch()\n",
            "Running on public URL: https://ebdac5ae852e548aa8.gradio.live\n",
            "\n",
            "This share link expires in 72 hours. For free permanent hosting and GPU upgrades, run `gradio deploy` from Terminal to deploy to Spaces (https://huggingface.co/spaces)\n"
          ]
        },
        {
          "output_type": "display_data",
          "data": {
            "text/plain": [
              "<IPython.core.display.HTML object>"
            ],
            "text/html": [
              "<div><iframe src=\"https://ebdac5ae852e548aa8.gradio.live\" width=\"100%\" height=\"500\" allow=\"autoplay; camera; microphone; clipboard-read; clipboard-write;\" frameborder=\"0\" allowfullscreen></iframe></div>"
            ]
          },
          "metadata": {}
        },
        {
          "output_type": "execute_result",
          "data": {
            "text/plain": []
          },
          "metadata": {},
          "execution_count": 5
        }
      ]
    }
  ]
}